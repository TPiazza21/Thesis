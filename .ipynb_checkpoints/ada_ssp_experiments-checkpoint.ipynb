{
 "cells": [
  {
   "cell_type": "markdown",
   "metadata": {},
   "source": [
    "This document is meant to start seeing what happens if we change the privacy budget of the adaSSP algorithm from https://arxiv.org/pdf/1803.02596.pdf. Can we get better performance for ridge regression in this differentially private setting?"
   ]
  },
  {
   "cell_type": "code",
   "execution_count": 1,
   "metadata": {},
   "outputs": [],
   "source": [
    "import pandas as pd\n",
    "import numpy as np\n",
    "from numpy import linalg as LA\n",
    "from numpy.random import normal\n",
    "from numpy import sqrt, log\n",
    "from scipy.io import loadmat\n",
    "from sklearn.model_selection import train_test_split\n",
    "from sklearn.metrics import mean_squared_error\n",
    "import matplotlib.pyplot as plt\n"
   ]
  },
  {
   "cell_type": "code",
   "execution_count": 2,
   "metadata": {},
   "outputs": [],
   "source": [
    "# bring in the data\n",
    "mat_input = loadmat('data/bike/bike.mat')['data']\n",
    "bike_df = pd.DataFrame(data=mat_input)\n",
    "\n",
    "# process the X and y\n",
    "bike_shape = bike_df.shape\n",
    "X_df = bike_df.drop(bike_shape[1]-1,axis=1)\n",
    "# make sure that ||X||_2^2 = 1\n",
    "sum_squares = X_df.apply(lambda x: x**2).sum().sum()\n",
    "X_df = X_df.apply(lambda x: x / sqrt(sum_squares))\n",
    "\n",
    "# divide out by max\n",
    "y_df = bike_df[bike_shape[1]-1]\n",
    "y_df = y_df / abs(y_df.max())"
   ]
  },
  {
   "cell_type": "markdown",
   "metadata": {},
   "source": [
    "Define SSP and the adaptive variant, adaSSP.\n",
    "In adaSSP, introduce the $\\gamma$ variable, where $\\gamma \\in [0,1]$ and $\\gamma$ represents the proportion of the privacy budget going towards the private release of the minimum eigenvalue."
   ]
  },
  {
   "cell_type": "code",
   "execution_count": 3,
   "metadata": {},
   "outputs": [],
   "source": [
    "# define SSP\n",
    "def SSP(X_df,y_df,epsilon,delta):\n",
    "\n",
    "    BX = 1\n",
    "    BY = 1\n",
    "    varrho =0.05\n",
    "    [n,d] = X_df.shape\n",
    "    X = X_df.values\n",
    "    y = y_df.values\n",
    "\n",
    "    # divide by 2 because we want all portions to add to 100%\n",
    "    epsilon_necessary = epsilon / 2.0\n",
    "    delta_necessary = delta / 2.0\n",
    "    # handle the hyperparameter business (dealing with minimum eigenvalue)\n",
    "\n",
    "    XTy = X.T.dot(y)\n",
    "    # why this added identity matrix?\n",
    "    XTX = (X.T).dot(X) + np.eye(d)\n",
    "    \n",
    "    # then handle the \"necessary\" parts of linear regression\n",
    "    logsod_necessary = np.log(2./delta_necessary)\n",
    "    # for X^Ty\n",
    "    normal_vec = normal(0.0,1.0,d)\n",
    "    normal_vec_scalar = (sqrt(logsod_necessary)/(epsilon_necessary))*BX*BY\n",
    "    XTy_hat = XTy + normal_vec_scalar * normal_vec\n",
    "    \n",
    "    # for X^TX\n",
    "    normal_mat = normal(0.0,1.0,(d,d))\n",
    "    symmetric_normal_mat = 0.5 * (normal_mat + normal_mat.T)\n",
    "    XTX_hat = XTX + (sqrt(logsod_necessary)/(epsilon_necessary))*BX*BX*symmetric_normal_mat\n",
    "    \n",
    "    # the new version of (X^TX)^{-1}(X^Ty)\n",
    "    theta_hat = LA.inv(XTX_hat).dot(XTy_hat)\n",
    "    \n",
    "    return theta_hat\n",
    "#print(SSP(X_df, y_df, 0.1, delta=10 ** (-6)))"
   ]
  },
  {
   "cell_type": "code",
   "execution_count": 4,
   "metadata": {},
   "outputs": [],
   "source": [
    "# define adaSSP\n",
    "def adaSSP(X_df,y_df,epsilon,delta,gamma):\n",
    "    \"\"\"\n",
    "    # gamma is a number in [0,1], says how much budget to put in getting the hyperparameter\n",
    "    \"\"\"\n",
    "    assert(gamma <= 1 and gamma >= 0)\n",
    "    BX = 1\n",
    "    BY = 1\n",
    "    varrho =0.05\n",
    "    [n,d] = X_df.shape\n",
    "    X = X_df.values\n",
    "    y = y_df.values\n",
    "        \n",
    "    epsilon_hyper = gamma * epsilon\n",
    "    delta_hyper = gamma * delta\n",
    "    # divide by 2 because we want all portions to add to 100%\n",
    "    epsilon_necessary = (1. - gamma) * epsilon / 2.0\n",
    "    delta_necessary = (1. - gamma) * delta / 2.0\n",
    "    # handle the hyperparameter business (dealing with minimum eigenvalue)\n",
    "    \n",
    "    logsod_hyper = np.log(2./delta_hyper)\n",
    "    eta = sqrt(d*logsod_hyper*log(2*d*d/varrho))*BX*BX/(epsilon_hyper)\n",
    "    XTy = X.T.dot(y)\n",
    "    # why does Wang add this identity matrix?\n",
    "    XTX = (X.T).dot(X) + np.eye(d)\n",
    "    w = LA.eigvals(XTX)\n",
    "    lambda_min_true = min(w)\n",
    "    \n",
    "    lamb_min = lambda_min_true + normal(0., 1., 1)*BX*BX*np.sqrt(logsod_hyper)/(epsilon_hyper) - logsod_hyper/(epsilon_hyper)\n",
    "    lamb_min = max(lamb_min, 0.)\n",
    "\n",
    "    \n",
    "    # then handle the \"necessary\" parts of linear regression\n",
    "    logsod_necessary = np.log(2./delta_necessary)\n",
    "    # for X^Ty\n",
    "    normal_vec = normal(0.0,1.0,d)\n",
    "    normal_vec_scalar = (sqrt(logsod_necessary)/(epsilon_necessary))*BX*BY\n",
    "    XTy_hat = XTy + normal_vec_scalar * normal_vec\n",
    "    \n",
    "    # for X^TX\n",
    "    normal_mat = normal(0.0,1.0,(d,d))\n",
    "    symmetric_normal_mat = 0.5 * (normal_mat + normal_mat.T)\n",
    "    XTX_hat = XTX + (sqrt(logsod_necessary)/(epsilon_necessary))*BX*BX*symmetric_normal_mat\n",
    "    \n",
    "    # the new version of (X^TX + lambda*I)^{-1}(X^Ty)\n",
    "    theta_hat = LA.inv(XTX_hat + lamb_min * np.eye(d)).dot(XTy_hat)\n",
    "    \n",
    "    return theta_hat\n",
    "#print(adaSSP(X_df, y_df, 0.1, delta=10 ** (-6), gamma=1./3.))\n",
    "    "
   ]
  },
  {
   "cell_type": "markdown",
   "metadata": {},
   "source": [
    "Now let's see what happens if we change epsilon (and gamma)."
   ]
  },
  {
   "cell_type": "code",
   "execution_count": 11,
   "metadata": {},
   "outputs": [],
   "source": [
    "# this function plots MSE vs. Epsilon (or Gamma), with multiple lines for different Gamma (or Epsilon)\n",
    "def multiple_error_plots(list1,list2, name1, name2, list1_is_epsilon=True, num_trials=10):\n",
    "    \"\"\"\n",
    "    list1 will be the different colored lines\n",
    "    list2 will be what is on the x-axis\n",
    "    name1 and name2 are the names for these quantities (ex. 'Epsilon')\n",
    "    \"\"\"\n",
    "    \n",
    "    val1_error_means = []\n",
    "    val1_error_stds = []\n",
    "    for val1 in list1:\n",
    "        error_means = []\n",
    "        error_stds = []\n",
    "        for val2 in list2:\n",
    "            val2_errors = []\n",
    "            for i in range(num_trials):\n",
    "                X_train, X_test, y_train, y_test = train_test_split(X_df, y_df, test_size=0.1)\n",
    "                try:\n",
    "                    if list1_is_epsilon:\n",
    "                        theta_hat = adaSSP(X_train, y_train, epsilon=val1, delta=10 ** (-6), gamma=val2)\n",
    "                    else:\n",
    "                        theta_hat = adaSSP(X_train, y_train, epsilon=val2, delta=10 ** (-6), gamma=val1)\n",
    "                    # then see how it does with the predictions on test set\n",
    "                    y_pred = (X_test.values).dot(theta_hat)\n",
    "                    err = mean_squared_error(y_pred, y_test)\n",
    "                    val2_errors.append(err)\n",
    "                except:\n",
    "                    print(\"Some kind of error happened, likely had a complex solution\")\n",
    "            error_means.append(np.mean(val2_errors))\n",
    "            error_stds.append(np.std(val2_errors))\n",
    "        val1_error_means.append(error_means)\n",
    "        val1_error_stds.append(error_stds)\n",
    "\n",
    "        plt.errorbar(list2, error_means, yerr=error_stds, label=f\"{name1} = {val1:.4f}\")\n",
    "    plt.yscale('log')\n",
    "    if not list1_is_epsilon:\n",
    "        plt.xscale('log')\n",
    "    plt.xlabel(name2)\n",
    "    plt.ylabel('Test Prediction MSE')\n",
    "    plt.title(f'ADASSP Performance vs. {name2} for Different {name1} Values')\n",
    "    plt.legend()\n",
    "    plt.show()\n"
   ]
  },
  {
   "cell_type": "code",
   "execution_count": 7,
   "metadata": {},
   "outputs": [
    {
     "data": {
      "image/png": "[encoded data removed]",
      "text/plain": [
       "<Figure size 432x288 with 1 Axes>"
      ]
     },
     "metadata": {
      "needs_background": "light"
     },
     "output_type": "display_data"
    }
   ],
   "source": [
    "epsilon_list = [0.01,0.02,0.05,0.1,0.2,0.5,1,2,5,10]\n",
    "gamma_list = [1.0/6.0, 2.0/6.0, 3.0/6.0, 4.0/6.0, 5.0/6.0]\n",
    "# epsilon on x-axis\n",
    "multiple_error_plots(list1=[1.0/6.0,1.0/2.0,5.0/6.0], list2=epsilon_list, name1=\"Gamma\", name2=\"Epsilon\", list1_is_epsilon=False, num_trials=10)"
   ]
  },
  {
   "cell_type": "code",
   "execution_count": 8,
   "metadata": {},
   "outputs": [
    {
     "data": {
      "image/png": "[encoded data removed]",
      "text/plain": [
       "<Figure size 432x288 with 1 Axes>"
      ]
     },
     "metadata": {
      "needs_background": "light"
     },
     "output_type": "display_data"
    }
   ],
   "source": [
    "# gamma on x-axis\n",
    "multiple_error_plots(list1=[0.1,1.0,10.0], list2=gamma_list, name1=\"Epsilon\", name2=\"Gamma\", list1_is_epsilon=True, num_trials=10)"
   ]
  },
  {
   "cell_type": "code",
   "execution_count": 10,
   "metadata": {},
   "outputs": [
    {
     "data": {
      "text/plain": [
       "Text(0.5, 1.0, 'SSP MSE vs. Epsilon')"
      ]
     },
     "execution_count": 10,
     "metadata": {},
     "output_type": "execute_result"
    },
    {
     "data": {
      "image/png": "[encoded data removed]",
      "text/plain": [
       "<Figure size 432x288 with 1 Axes>"
      ]
     },
     "metadata": {
      "needs_background": "light"
     },
     "output_type": "display_data"
    }
   ],
   "source": [
    "# show a graph for the standard SSP (plot over different epsilons)\n",
    "epsilon_list = [0.01,0.02,0.05,0.1,0.2,0.5,1,2,5,10]\n",
    "error_means = []\n",
    "error_stds = []\n",
    "num_trials = 10\n",
    "for epsilon in epsilon_list:\n",
    "    epsilon_errors = []\n",
    "    for i in range(num_trials):\n",
    "        X_train, X_test, y_train, y_test = train_test_split(X_df, y_df, test_size=0.1)\n",
    "        theta_hat = SSP(X_train, y_train, epsilon=epsilon, delta=10 ** (-6))\n",
    "        # then see how it does with the predictions on test set\n",
    "        y_pred = (X_test.values).dot(theta_hat)\n",
    "        err = mean_squared_error(y_pred, y_test)\n",
    "        epsilon_errors.append(err)\n",
    "\n",
    "    error_means.append(np.mean(epsilon_errors))\n",
    "    error_stds.append(np.std(epsilon_errors))\n",
    "\n",
    "plt.errorbar(epsilon_list, error_means, yerr=error_stds)\n",
    "plt.yscale('log')\n",
    "plt.xscale('log')\n",
    "plt.ylabel(\"Test MSE\")\n",
    "plt.xlabel(\"Epsilon\")\n",
    "plt.title(\"SSP MSE vs. Epsilon\")"
   ]
  },
  {
   "cell_type": "code",
   "execution_count": null,
   "metadata": {},
   "outputs": [],
   "source": []
  }
 ],
 "metadata": {
  "kernelspec": {
   "display_name": "Python 3",
   "language": "python",
   "name": "python3"
  },
  "language_info": {
   "codemirror_mode": {
    "name": "ipython",
    "version": 3
   },
   "file_extension": ".py",
   "mimetype": "text/x-python",
   "name": "python",
   "nbconvert_exporter": "python",
   "pygments_lexer": "ipython3",
   "version": "3.7.3"
  }
 },
 "nbformat": 4,
 "nbformat_minor": 4
}
